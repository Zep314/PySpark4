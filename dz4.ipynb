{
  "nbformat": 4,
  "nbformat_minor": 0,
  "metadata": {
    "colab": {
      "provenance": []
    },
    "kernelspec": {
      "name": "python3",
      "display_name": "Python 3"
    },
    "language_info": {
      "name": "python"
    }
  },
  "cells": [
    {
      "cell_type": "markdown",
      "source": [
        "# **Spark Apache (Семинары)**\n",
        "## **Урок 4. Изучение Spark Structure Streaming**\n",
        "### Задание:\n",
        "1. Условие: Используйте источник rate, напишите код, который создаст дополнительный столбец, который будет выводить сумму только нечётных чисел"
      ],
      "metadata": {
        "id": "eucfV9ESlFvz"
      }
    },
    {
      "cell_type": "code",
      "execution_count": null,
      "metadata": {
        "id": "QbgQLcaElCHQ"
      },
      "outputs": [],
      "source": [
        "! pip install pyspark >> /dev/null"
      ]
    },
    {
      "cell_type": "code",
      "source": [
        "# Установка требуемых модулей\n",
        "from pyspark.sql import SparkSession\n",
        "from pyspark.sql.functions import col, expr, lit, row_number, rank\n",
        "#from pyspark.sql.window import Window\n",
        "from pyspark.sql import functions as F"
      ],
      "metadata": {
        "id": "FZiwWz6JlyCX"
      },
      "execution_count": null,
      "outputs": []
    },
    {
      "cell_type": "code",
      "source": [
        "# Установка сессии spark\n",
        "spark = SparkSession.builder.appName('RateOdd').getOrCreate()\n",
        "\n",
        "# Объявляем поток чтения из RATE источника\n",
        "df_input = spark.readStream.format(\"rate\").option(\"rowsPerSecond\", 3).load()\n",
        "\n",
        "# Объявляем поток записи\n",
        "odd_sum_query = df_input \\\n",
        "    .filter(col('value') % 2 != 0) \\\n",
        "    .groupBy(F.window(\"timestamp\", \"1 seconds\")) \\\n",
        "        .sum('value') \\\n",
        "        .withColumnRenamed('sum(value)', 'sum_odd') \\\n",
        "    .writeStream \\\n",
        "    .outputMode(\"update\") \\\n",
        "    .queryName(\"aggregates\") \\\n",
        "    .format(\"memory\") \\\n",
        "\n",
        "# Запускаем поток\n",
        "odd_sum_query.start().awaitTermination(15)\n",
        "\n",
        "spark.sql(\"select * from aggregates\").show(50, truncate=False)\n",
        "\n",
        "spark.stop()"
      ],
      "metadata": {
        "colab": {
          "base_uri": "https://localhost:8080/"
        },
        "id": "wUEsz3ZrhzcA",
        "outputId": "20e413b1-e44c-4fef-99c2-d25675993e44"
      },
      "execution_count": null,
      "outputs": [
        {
          "output_type": "stream",
          "name": "stdout",
          "text": [
            "+------------------------------------------+-------+\n",
            "|window                                    |sum_odd|\n",
            "+------------------------------------------+-------+\n",
            "|{2024-04-26 10:12:29, 2024-04-26 10:12:30}|15     |\n",
            "|{2024-04-26 10:12:30, 2024-04-26 10:12:31}|36     |\n",
            "|{2024-04-26 10:12:27, 2024-04-26 10:12:28}|9      |\n",
            "|{2024-04-26 10:12:24, 2024-04-26 10:12:25}|1      |\n",
            "|{2024-04-26 10:12:26, 2024-04-26 10:12:27}|12     |\n",
            "|{2024-04-26 10:12:25, 2024-04-26 10:12:26}|3      |\n",
            "|{2024-04-26 10:12:28, 2024-04-26 10:12:29}|24     |\n",
            "+------------------------------------------+-------+\n",
            "\n"
          ]
        }
      ]
    },
    {
      "cell_type": "code",
      "source": [],
      "metadata": {
        "id": "qu4V5zmJ47aF"
      },
      "execution_count": null,
      "outputs": []
    }
  ]
}